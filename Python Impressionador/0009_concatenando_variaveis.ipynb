{
 "cells": [
  {
   "cell_type": "code",
   "execution_count": 3,
   "id": "fcc2aab5",
   "metadata": {},
   "outputs": [
    {
     "name": "stdout",
     "output_type": "stream",
     "text": [
      "Olá, meu nome é Raphael, tenho 36 anos e ganho um salário líquido de 9036.44 reais.\n"
     ]
    }
   ],
   "source": [
    "nome = \"Raphael\"\n",
    "idade = 36\n",
    "salario_bruto = 14036.44\n",
    "descontos = 5000\n",
    "\n",
    "print(\"Olá, meu nome é \" + nome + \", tenho \" + str(idade) + \" anos e ganho um salário líquido de \" + str(salario_bruto - descontos) + \" reais.\")"
   ]
  }
 ],
 "metadata": {
  "kernelspec": {
   "display_name": "Python 3 (ipykernel)",
   "language": "python",
   "name": "python3"
  },
  "language_info": {
   "codemirror_mode": {
    "name": "ipython",
    "version": 3
   },
   "file_extension": ".py",
   "mimetype": "text/x-python",
   "name": "python",
   "nbconvert_exporter": "python",
   "pygments_lexer": "ipython3",
   "version": "3.11.5"
  }
 },
 "nbformat": 4,
 "nbformat_minor": 5
}
