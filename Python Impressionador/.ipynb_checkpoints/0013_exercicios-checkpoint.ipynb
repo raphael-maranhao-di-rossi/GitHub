{
 "cells": [
  {
   "cell_type": "markdown",
   "id": "bb0f9514",
   "metadata": {
    "id": "bb0f9514"
   },
   "source": [
    "# Lista de Estrutura Sequencial"
   ]
  },
  {
   "cell_type": "markdown",
   "id": "4e7a8c30",
   "metadata": {
    "id": "4e7a8c30"
   },
   "source": [
    "#### 1. Faça um Programa que mostre a mensagem (print) \"Alo mundo\" na tela."
   ]
  },
  {
   "cell_type": "code",
   "execution_count": 46,
   "id": "883bfe85",
   "metadata": {
    "id": "883bfe85"
   },
   "outputs": [
    {
     "name": "stdout",
     "output_type": "stream",
     "text": [
      "Alô, mundo!\n"
     ]
    }
   ],
   "source": [
    "print(\"Alô, mundo!\")"
   ]
  },
  {
   "cell_type": "markdown",
   "id": "71d6d6a2",
   "metadata": {
    "id": "71d6d6a2"
   },
   "source": [
    "#### 2. Faça um Programa que peça um número (input) e então mostre a mensagem: \"O número informado foi [número].\""
   ]
  },
  {
   "cell_type": "code",
   "execution_count": 4,
   "id": "30cfffcf",
   "metadata": {
    "id": "30cfffcf"
   },
   "outputs": [
    {
     "name": "stdout",
     "output_type": "stream",
     "text": [
      "Digite um número: 125.3\n",
      "O número informado foi 125.3\n"
     ]
    }
   ],
   "source": [
    "numero = input(\"Digite um número: \")\n",
    "print(f\"O número informado foi {numero}\")"
   ]
  },
  {
   "cell_type": "markdown",
   "id": "c5e43160",
   "metadata": {
    "id": "c5e43160"
   },
   "source": [
    "#### 3. Faça um Programa que peça dois números e imprima a soma."
   ]
  },
  {
   "cell_type": "code",
   "execution_count": 6,
   "id": "b0e79590",
   "metadata": {
    "id": "b0e79590"
   },
   "outputs": [
    {
     "name": "stdout",
     "output_type": "stream",
     "text": [
      "Digite o primeiro número: 15\n",
      "Digite o segundo número: 25\n",
      "A soma dos números é 40.0\n"
     ]
    }
   ],
   "source": [
    "numero1 = float(input(\"Digite o primeiro número: \"))\n",
    "numero2 = float(input(\"Digite o segundo número: \"))\n",
    "soma = numero1 + numero2\n",
    "\n",
    "print(f\"A soma dos números é {soma}\")"
   ]
  },
  {
   "cell_type": "markdown",
   "id": "17826987",
   "metadata": {
    "id": "17826987"
   },
   "source": [
    "#### 4. Faça um Programa que peça as 4 notas bimestrais de um aluno e mostre a média de todas as notas."
   ]
  },
  {
   "cell_type": "code",
   "execution_count": 7,
   "id": "23b66762",
   "metadata": {
    "id": "23b66762"
   },
   "outputs": [
    {
     "name": "stdout",
     "output_type": "stream",
     "text": [
      "Digite a primeira nota: 49\n",
      "Digite a segunda nota: 79\n",
      "Digite a terceira nota: 86\n",
      "Digite a quarta nota: 100\n",
      "A média das notas é 78.5\n"
     ]
    }
   ],
   "source": [
    "nota1 = float(input(\"Digite a primeira nota: \"))\n",
    "nota2 = float(input(\"Digite a segunda nota: \"))\n",
    "nota3 = float(input(\"Digite a terceira nota: \"))\n",
    "nota4= float(input(\"Digite a quarta nota: \"))\n",
    "\n",
    "media = (nota1 + nota2 + nota3 + nota4) / 4\n",
    "\n",
    "print(f\"A média das notas é {media}\")"
   ]
  },
  {
   "cell_type": "markdown",
   "id": "62d461c5",
   "metadata": {
    "id": "62d461c5"
   },
   "source": [
    "#### 5. Faça um Programa que converta metros para centímetros. Você pode pedir o comprimento em metros para o usuário (input)."
   ]
  },
  {
   "cell_type": "code",
   "execution_count": 8,
   "id": "d642f1ba",
   "metadata": {
    "id": "d642f1ba"
   },
   "outputs": [
    {
     "name": "stdout",
     "output_type": "stream",
     "text": [
      "Valor em metros: 2\n",
      "200.0 centímetros\n"
     ]
    }
   ],
   "source": [
    "metros = float(input(\"Valor em metros: \"))\n",
    "\n",
    "centimetros = metros * 100\n",
    "\n",
    "print(f\"{centimetros} centímetros\")"
   ]
  },
  {
   "cell_type": "markdown",
   "id": "f1311697",
   "metadata": {
    "id": "f1311697"
   },
   "source": [
    "#### 6. Faça um Programa que calcule a área de uma sala de um apartamento. Para isso, o seu programa precisa pedir a largura da sala, o comprimento da sala e imprimir a área em m² da sala."
   ]
  },
  {
   "cell_type": "code",
   "execution_count": 12,
   "id": "612ea24b",
   "metadata": {
    "id": "612ea24b"
   },
   "outputs": [
    {
     "name": "stdout",
     "output_type": "stream",
     "text": [
      "Digite a largura da sala(em m²): 12.46\n",
      "Digite o comprimento da sala(em m²): 15.74\n",
      "A área da sala do apartamento é de 196.12040000000002m²\n"
     ]
    }
   ],
   "source": [
    "largura_sala = float(input(\"Digite a largura da sala(em m²): \"))\n",
    "comp_sala = float(input(\"Digite o comprimento da sala(em m²): \"))\n",
    "\n",
    "area = largura_sala * comp_sala\n",
    "\n",
    "print(f\"A área da sala do apartamento é de {area}m²\")"
   ]
  },
  {
   "cell_type": "markdown",
   "id": "2a285929",
   "metadata": {
    "id": "2a285929"
   },
   "source": [
    "#### 7. Faça um Programa que pergunte quanto você ganha por hora e o número de horas trabalhadas no mês. Calcule e mostre o total do seu salário no referido mês."
   ]
  },
  {
   "cell_type": "code",
   "execution_count": 15,
   "id": "359e2232",
   "metadata": {
    "id": "359e2232"
   },
   "outputs": [
    {
     "name": "stdout",
     "output_type": "stream",
     "text": [
      "Valor ganho por hora trabalhada: 91.89\n",
      "Horas trabalhadas no mês: 160\n",
      "Seu salário total do mês é de R$14702.4\n"
     ]
    }
   ],
   "source": [
    "valor_hora = float(input(\"Valor ganho por hora trabalhada: \"))\n",
    "horas_trabalhadas_mes = int(input(\"Horas trabalhadas no mês: \"))\n",
    "\n",
    "salario_mes = valor_hora * horas_trabalhadas_mes\n",
    "\n",
    "print(f\"Seu salário total do mês é de R${salario_mes}\")"
   ]
  },
  {
   "cell_type": "markdown",
   "id": "7e2d4615",
   "metadata": {
    "id": "7e2d4615"
   },
   "source": [
    "#### 8. Vamos criar um conversor de temperatura. Faça um Programa que peça a temperatura em graus Fahrenheit, transforme e mostre a temperatura em graus Celsius.\n",
    "$C = \\frac{5}{9}(F-32)$"
   ]
  },
  {
   "cell_type": "code",
   "execution_count": 16,
   "id": "82daf9fd",
   "metadata": {
    "id": "82daf9fd"
   },
   "outputs": [
    {
     "name": "stdout",
     "output_type": "stream",
     "text": [
      "Digite a temperatura em Fahrenheit: 75\n",
      "23.88888888888889C\n"
     ]
    }
   ],
   "source": [
    "temp_f = float(input(\"Digite a temperatura em Fahrenheit: \"))\n",
    "\n",
    "temp_c = (5 / 9) * (temp_f - 32)\n",
    "\n",
    "print(f\"{temp_c}C\")"
   ]
  },
  {
   "cell_type": "markdown",
   "id": "20708b1c",
   "metadata": {
    "id": "20708b1c"
   },
   "source": [
    "#### 9. Faça um Programa que peça a temperatura em graus Celsius, transforme e mostre em graus Fahrenheit.\n",
    "$F = \\frac{9}{5}C + 32$"
   ]
  },
  {
   "cell_type": "code",
   "execution_count": 18,
   "id": "c73cfb38",
   "metadata": {
    "id": "c73cfb38"
   },
   "outputs": [
    {
     "name": "stdout",
     "output_type": "stream",
     "text": [
      "Digite a temperatura em Celsius: 75\n",
      "167.0F\n"
     ]
    }
   ],
   "source": [
    "temp_c = float(input(\"Digite a temperatura em Celsius: \"))\n",
    "\n",
    "temp_f = ((9 / 5) * temp_c) + 32\n",
    "\n",
    "print(f\"{temp_f}F\")"
   ]
  },
  {
   "cell_type": "markdown",
   "id": "b263a9dc",
   "metadata": {
    "id": "b263a9dc"
   },
   "source": [
    "#### 10. Tendo como dados de entrada a altura (h) de uma pessoa, construa um algoritmo que calcule seu peso ideal, usando a seguinte fórmula:\n",
    "$P = 72,7h - 58$\n",
    "\n",
    "Lembrando que \"algoritmo\" nada mais é do que um programa, como todos os outros que você vem fazendo"
   ]
  },
  {
   "cell_type": "code",
   "execution_count": 21,
   "id": "9a9b8dca",
   "metadata": {
    "id": "9a9b8dca"
   },
   "outputs": [
    {
     "name": "stdout",
     "output_type": "stream",
     "text": [
      "Digite a sua altura, em metros: 1.80\n",
      "O seu peso ideal é de 72.86000000000001kg.\n"
     ]
    }
   ],
   "source": [
    "altura = float(input(\"Digite a sua altura, em metros: \"))\n",
    "\n",
    "peso_ideal = 72.7 * altura - 58\n",
    "\n",
    "print(f\"O seu peso ideal é de {peso_ideal}kg.\")"
   ]
  },
  {
   "cell_type": "markdown",
   "id": "13bb40d7",
   "metadata": {
    "id": "13bb40d7"
   },
   "source": [
    "#### 11. Tendo como dado de entrada a altura (h) de uma pessoa, construa um algoritmo que calcule seu peso ideal, utilizando as seguintes fórmulas:\n",
    "##### a. Para homens: $P = 72,7h - 58$\n",
    "##### b. Para mulheres: $P = 62,1h - 44,7$"
   ]
  },
  {
   "cell_type": "code",
   "execution_count": 22,
   "id": "bf82dc8c",
   "metadata": {
    "id": "bf82dc8c"
   },
   "outputs": [
    {
     "name": "stdout",
     "output_type": "stream",
     "text": [
      "Digite a sua altura, em metros: 1.81\n",
      "O seu peso ideal, caso você seja HOMEM, é de 73.58700000000002kg.\n",
      "O seu peso ideal, caso você seja MULHER, é de 67.70100000000001kg.\n"
     ]
    }
   ],
   "source": [
    "altura = float(input(\"Digite a sua altura, em metros: \"))\n",
    "\n",
    "peso_ideal_homens = 72.7 * altura - 58\n",
    "peso_ideal_mulheres = 62.1 * altura - 44.7\n",
    "\n",
    "print(f\"O seu peso ideal, caso você seja HOMEM, é de {peso_ideal_homens}kg.\")\n",
    "print(f\"O seu peso ideal, caso você seja MULHER, é de {peso_ideal_mulheres}kg.\")"
   ]
  },
  {
   "cell_type": "markdown",
   "id": "f208ef89",
   "metadata": {
    "id": "f208ef89"
   },
   "source": [
    "#### 12. Faça um Programa que pergunte quanto você ganha por hora e o número de horas trabalhadas no mês."
   ]
  },
  {
   "cell_type": "code",
   "execution_count": 23,
   "id": "2d5b23e0",
   "metadata": {
    "id": "2d5b23e0"
   },
   "outputs": [
    {
     "name": "stdout",
     "output_type": "stream",
     "text": [
      "Valor ganho por hora: 154.35\n",
      "Quantidade de horas trabalhadas no mês: 160\n"
     ]
    }
   ],
   "source": [
    "valor_hora = float(input(\"Valor ganho por hora: \"))\n",
    "horas_trabalhadas_mes = int(input(\"Quantidade de horas trabalhadas no mês: \"))"
   ]
  },
  {
   "cell_type": "markdown",
   "id": "607dee3c",
   "metadata": {
    "id": "607dee3c"
   },
   "source": [
    "#####  Calcule o salário bruto (horas * salario por hora)"
   ]
  },
  {
   "cell_type": "code",
   "execution_count": 24,
   "id": "7f80ccbb",
   "metadata": {
    "id": "7f80ccbb"
   },
   "outputs": [
    {
     "name": "stdout",
     "output_type": "stream",
     "text": [
      "O salário bruto é de 24696.0 reais.\n"
     ]
    }
   ],
   "source": [
    "salario_bruto = valor_hora * horas_trabalhadas_mes\n",
    "\n",
    "print(f\"O salário bruto é de {salario_bruto} reais.\")"
   ]
  },
  {
   "cell_type": "markdown",
   "id": "2ed93cb0",
   "metadata": {
    "id": "2ed93cb0"
   },
   "source": [
    "##### Calcule o desconto do IR (11% do salário bruto)"
   ]
  },
  {
   "cell_type": "code",
   "execution_count": 25,
   "id": "3363e22f",
   "metadata": {
    "id": "3363e22f"
   },
   "outputs": [
    {
     "name": "stdout",
     "output_type": "stream",
     "text": [
      "O desconto do IR é de 2716.56 reais.\n"
     ]
    }
   ],
   "source": [
    "desconto_IR = salario_bruto * 0.11\n",
    "\n",
    "print(f\"O desconto do IR é de {desconto_IR} reais.\")"
   ]
  },
  {
   "cell_type": "markdown",
   "id": "0994b2c0",
   "metadata": {
    "id": "0994b2c0"
   },
   "source": [
    "##### Calcule o desconto do INSS (8% do salário bruto)"
   ]
  },
  {
   "cell_type": "code",
   "execution_count": 26,
   "id": "748c6088",
   "metadata": {
    "id": "748c6088"
   },
   "outputs": [
    {
     "name": "stdout",
     "output_type": "stream",
     "text": [
      "O desconto do INSS é de 1975.68 reais.\n"
     ]
    }
   ],
   "source": [
    "desconto_INSS = salario_bruto * 0.08\n",
    "\n",
    "print(f\"O desconto do INSS é de {desconto_INSS} reais.\")"
   ]
  },
  {
   "cell_type": "markdown",
   "id": "06e8dae4",
   "metadata": {
    "id": "06e8dae4"
   },
   "source": [
    "##### Calcule o desconto do sindicato (5% do salário bruto)"
   ]
  },
  {
   "cell_type": "code",
   "execution_count": 27,
   "id": "21b95b15",
   "metadata": {
    "id": "21b95b15",
    "scrolled": true
   },
   "outputs": [
    {
     "name": "stdout",
     "output_type": "stream",
     "text": [
      "O desconto do sindicato é de 1234.8000000000002 reais.\n"
     ]
    }
   ],
   "source": [
    "desconto_sindicato = salario_bruto * 0.05\n",
    "\n",
    "print(f\"O desconto do sindicato é de {desconto_sindicato} reais.\")"
   ]
  },
  {
   "cell_type": "markdown",
   "id": "bb14ce36",
   "metadata": {
    "id": "bb14ce36"
   },
   "source": [
    "##### Calcule o salário líquido (salário bruto - descontos)"
   ]
  },
  {
   "cell_type": "code",
   "execution_count": 29,
   "id": "56317086",
   "metadata": {
    "id": "56317086"
   },
   "outputs": [
    {
     "name": "stdout",
     "output_type": "stream",
     "text": [
      "O valor do salário bruto é de 18768.96 reais.\n"
     ]
    }
   ],
   "source": [
    "salario_liquido = salario_bruto - desconto_IR - desconto_INSS - desconto_sindicato\n",
    "\n",
    "print(f\"O valor do salário bruto é de {salario_liquido} reais.\")"
   ]
  },
  {
   "cell_type": "markdown",
   "id": "cfbfcc87",
   "metadata": {
    "id": "cfbfcc87"
   },
   "source": [
    "#### 13. Faça um programa para uma loja de tintas. O programa deverá pedir o tamanho em metros quadrados da área a ser pintada. Considere que a cobertura da tinta é de 1 litro para cada 3 metros quadrados e que a tinta é vendida em latas de 18 litros, que custam R\\$ 80,00. Informe ao usuário a quantidades de latas de tinta a serem compradas e o preço total. (para simplificação nesse momento, não se preocupe em arredondar a quantidade de latas a serem compradas - vamos trabalhar isso em breve)"
   ]
  },
  {
   "cell_type": "code",
   "execution_count": 31,
   "id": "fb6a083b",
   "metadata": {
    "id": "fb6a083b"
   },
   "outputs": [
    {
     "name": "stdout",
     "output_type": "stream",
     "text": [
      "Qual o tamanho da área (m²) a ser pintada? 135.2\n",
      "A quantidade de latas de tinta necessárias são: 2.5037037037037035\n",
      "O preço total das tintas é de 200.29629629629628 reais.\n"
     ]
    }
   ],
   "source": [
    "preco_lata_tinta = 80.0\n",
    "area_pintada = float(input(\"Qual o tamanho da área (m²) a ser pintada? \"))\n",
    "\n",
    "qtd_latas_tinta = area_pintada / 54\n",
    "preco_total = qtd_latas_tinta * preco_lata_tinta\n",
    "\n",
    "print(f\"A quantidade de latas de tinta necessárias são: {qtd_latas_tinta}\")\n",
    "print(f\"O preço total das tintas é de {preco_total} reais.\")"
   ]
  },
  {
   "cell_type": "markdown",
   "id": "d6503c92",
   "metadata": {
    "id": "d6503c92"
   },
   "source": [
    "#### 14. Faça um programa que peça o tamanho de um arquivo para download (em MB) e a velocidade de um link de Internet (em Mbps), calcule e informe o tempo aproximado de download do arquivo usando este link (em minutos).\n",
    "\n",
    "Detalhe: MB significa megabyte, Mb (com b minúsculo) significa megabit. Um megabit é 1/8 de um megabyte. "
   ]
  },
  {
   "cell_type": "code",
   "execution_count": 45,
   "id": "0563aa62",
   "metadata": {
    "id": "0563aa62"
   },
   "outputs": [
    {
     "name": "stdout",
     "output_type": "stream",
     "text": [
      "Entre com o tamanho do arquivo a ser baixado (em MB): 15\n",
      "Digite a velocidade do seu provedor de internet (em Mbps): 10\n",
      "O tempo necessário para baixar o arquivo é de 0 minutos e 12.0 segundos.\n"
     ]
    }
   ],
   "source": [
    "tamanho_arquivo = float(input(\"Entre com o tamanho do arquivo a ser baixado (em MB): \"))\n",
    "velocidade_link = int(input(\"Digite a velocidade do seu provedor de internet (em Mbps): \"))\n",
    "\n",
    "tempo_segundos = tamanho_arquivo / (velocidade_link / 8)\n",
    "tempo_minutos = int(tempo_segundos / 60)\n",
    "tempo_resto = (tempo_segundos % 60)\n",
    "\n",
    "print(f\"O tempo necessário para baixar o arquivo é de {tempo_minutos} minutos e {tempo_resto} segundos.\")"
   ]
  }
 ],
 "metadata": {
  "colab": {
   "provenance": []
  },
  "kernelspec": {
   "display_name": "Python 3 (ipykernel)",
   "language": "python",
   "name": "python3"
  },
  "language_info": {
   "codemirror_mode": {
    "name": "ipython",
    "version": 3
   },
   "file_extension": ".py",
   "mimetype": "text/x-python",
   "name": "python",
   "nbconvert_exporter": "python",
   "pygments_lexer": "ipython3",
   "version": "3.11.5"
  }
 },
 "nbformat": 4,
 "nbformat_minor": 5
}
