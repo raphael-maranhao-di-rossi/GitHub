{
 "cells": [
  {
   "cell_type": "markdown",
   "id": "a0b0c292",
   "metadata": {},
   "source": [
    "Digamos que você precisa criar um programa para um fundo de investimentos conseguir avaliar o resultado de uma carteira de ações e o quanto de taxa deverá ser pago.\n",
    "\n",
    "A regra desse fundo de investimentos é:\n",
    "\n",
    "O fundo se compromete a entregar no mínimo 5% de retorno ao ano.\n",
    "Caso o fundo não consiga entregar os 5% de retorno, ele não pode cobrar taxa dos seus investidores.\n",
    "Caso o fundo consiga entregar mais de 5% de retorno, ele irá cobrar 2% de taxa dos seus investidores.\n",
    "Caso o fundo consiga mais de 20% de retorno, ele irá cobrar 4% de taxa dos seus investidores."
   ]
  },
  {
   "cell_type": "code",
   "execution_count": 12,
   "id": "96dbb6a8",
   "metadata": {},
   "outputs": [
    {
     "name": "stdout",
     "output_type": "stream",
     "text": [
      "De quanto foi a taxa de retorno?0.25\n",
      "Será cobrado 4% de taxa dos investidores.\n"
     ]
    }
   ],
   "source": [
    "taxa = float(input(\"De quanto foi a taxa de retorno?\"))\n",
    "\n",
    "minimo = 0.05\n",
    "\n",
    "if taxa > minimo:\n",
    "    if taxa > 0.20:\n",
    "        print(\"Será cobrado 4% de taxa dos investidores.\")\n",
    "    else:\n",
    "        print(\"Será cobrado 2% de taxa dos investidores.\")\n",
    "else:\n",
    "    print(\"A taxa não será cobrada dos investidores.\")\n",
    "    "
   ]
  }
 ],
 "metadata": {
  "kernelspec": {
   "display_name": "Python 3 (ipykernel)",
   "language": "python",
   "name": "python3"
  },
  "language_info": {
   "codemirror_mode": {
    "name": "ipython",
    "version": 3
   },
   "file_extension": ".py",
   "mimetype": "text/x-python",
   "name": "python",
   "nbconvert_exporter": "python",
   "pygments_lexer": "ipython3",
   "version": "3.11.5"
  }
 },
 "nbformat": 4,
 "nbformat_minor": 5
}
