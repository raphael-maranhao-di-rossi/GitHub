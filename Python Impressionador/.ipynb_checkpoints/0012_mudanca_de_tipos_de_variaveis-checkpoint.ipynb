{
 "cells": [
  {
   "cell_type": "code",
   "execution_count": 2,
   "id": "6608633f",
   "metadata": {},
   "outputs": [
    {
     "name": "stdout",
     "output_type": "stream",
     "text": [
      "Insira o seu salário bruto: 14500\n",
      "Insira o total de descontos: 5000\n",
      "O seu salário líquido é de 9500.0 reais.\n"
     ]
    }
   ],
   "source": [
    "#quando pedimos para um usuário adicionar um valor, mas temos que digitar um texto,\n",
    "#temos uma string(texto) e um valor(int, float,etc), na qual não se concatena sem conversão.\n",
    "#para convertermos, temos que usar o tipo da variável no começo do input.\n",
    "\n",
    "salario_bruto = float(input(\"Insira o seu salário bruto: \"))\n",
    "total_descontos = float(input(\"Insira o total de descontos: \"))\n",
    "salario_liquido = salario_bruto - total_descontos\n",
    "\n",
    "print(f\"O seu salário líquido é de {salario_liquido} reais.\")"
   ]
  }
 ],
 "metadata": {
  "kernelspec": {
   "display_name": "Python 3 (ipykernel)",
   "language": "python",
   "name": "python3"
  },
  "language_info": {
   "codemirror_mode": {
    "name": "ipython",
    "version": 3
   },
   "file_extension": ".py",
   "mimetype": "text/x-python",
   "name": "python",
   "nbconvert_exporter": "python",
   "pygments_lexer": "ipython3",
   "version": "3.11.5"
  }
 },
 "nbformat": 4,
 "nbformat_minor": 5
}
