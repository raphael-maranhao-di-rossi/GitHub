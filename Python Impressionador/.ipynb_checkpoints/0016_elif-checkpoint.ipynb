{
 "cells": [
  {
   "cell_type": "markdown",
   "id": "a7308a4b",
   "metadata": {},
   "source": [
    "Vamos criar um programa para analisar o bônus dos funcionários de uma empresa (pode parecer \"simples\", mas uma empresa como a Amazon tem 900.000 funcionários)\n",
    "\n",
    "Para os cargos de vendedores, a regra do bônus é de acordo com a meta de vendas da pessoa:\n",
    "\n",
    "Se ela vendeu abaixo da meta dela, ela não ganha bônus.\n",
    "\n",
    "Se ela vendeu acima da meta dela, ela ganha como bônus 3% do valor que ela vendeu.\n",
    "\n",
    "Se ela vendeu mais do que o dobro da meta dela, ela ganha como bônus 7% do valor que ela vendeu.\n",
    "\n",
    "Vamos criar um programa para avaliar uma pessoa que tinha como meta de vendas 20.000 reais e calcular o bônus dela de acordo com o valor de vendas que ela tiver."
   ]
  },
  {
   "cell_type": "code",
   "execution_count": 19,
   "id": "19d7af9b",
   "metadata": {},
   "outputs": [
    {
     "name": "stdout",
     "output_type": "stream",
     "text": [
      "Digite o total de vendas: 0\n",
      "Você não ganhou bônus, pois não bateu a meta.\n"
     ]
    }
   ],
   "source": [
    "meta = 20000\n",
    "total_vendas = float(input(\"Digite o total de vendas: \"))\n",
    "bonus = 0\n",
    "\n",
    "if total_vendas < meta:\n",
    "    print(\"Você não ganhou bônus, pois não bateu a meta.\")\n",
    "elif total_vendas > (meta * 2):\n",
    "    bonus = 0.07 * total_vendas\n",
    "    print(f\"O seu bônus é de {bonus} reais.\")\n",
    "else:\n",
    "    bonus = 0.03 * total_vendas\n",
    "    print(f\"O seu bônus é de {bonus} reais.\")\n",
    "    \n",
    "        "
   ]
  }
 ],
 "metadata": {
  "kernelspec": {
   "display_name": "Python 3 (ipykernel)",
   "language": "python",
   "name": "python3"
  },
  "language_info": {
   "codemirror_mode": {
    "name": "ipython",
    "version": 3
   },
   "file_extension": ".py",
   "mimetype": "text/x-python",
   "name": "python",
   "nbconvert_exporter": "python",
   "pygments_lexer": "ipython3",
   "version": "3.11.5"
  }
 },
 "nbformat": 4,
 "nbformat_minor": 5
}
