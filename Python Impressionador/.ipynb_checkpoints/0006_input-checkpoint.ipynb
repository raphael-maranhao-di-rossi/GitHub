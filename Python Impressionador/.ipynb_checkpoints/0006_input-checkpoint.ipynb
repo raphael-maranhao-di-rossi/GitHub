{
 "cells": [
  {
   "cell_type": "code",
   "execution_count": 2,
   "id": "28917c8e",
   "metadata": {},
   "outputs": [
    {
     "name": "stdout",
     "output_type": "stream",
     "text": [
      "Qual é o seu nome?Raphael\n"
     ]
    },
    {
     "data": {
      "text/plain": [
       "'Raphael'"
      ]
     },
     "execution_count": 2,
     "metadata": {},
     "output_type": "execute_result"
    }
   ],
   "source": [
    "input(\"Qual é o seu nome?\")"
   ]
  },
  {
   "cell_type": "code",
   "execution_count": 3,
   "id": "8dd67b99",
   "metadata": {},
   "outputs": [
    {
     "name": "stdout",
     "output_type": "stream",
     "text": [
      "Qual é o seu nome?Raphael\n",
      "o nome dele é Raphael\n"
     ]
    }
   ],
   "source": [
    "nome = input(\"Qual é o seu nome?\")\n",
    "print(\"o nome dele é \" + nome)"
   ]
  },
  {
   "cell_type": "code",
   "execution_count": 5,
   "id": "252252ad",
   "metadata": {},
   "outputs": [
    {
     "name": "stdout",
     "output_type": "stream",
     "text": [
      "Qual é o seu primeiro nome?Raphael\n",
      "Qual é o seu sobrenome?Maranhão di Rossi\n",
      "o nome completo dele é Raphael Maranhão di Rossi\n"
     ]
    }
   ],
   "source": [
    "nome = input(\"Qual é o seu primeiro nome?\")\n",
    "sobrenome = input(\"Qual é o seu sobrenome?\")\n",
    "print(\"o nome completo dele é \" + nome + ' ' + sobrenome)"
   ]
  }
 ],
 "metadata": {
  "kernelspec": {
   "display_name": "Python 3 (ipykernel)",
   "language": "python",
   "name": "python3"
  },
  "language_info": {
   "codemirror_mode": {
    "name": "ipython",
    "version": 3
   },
   "file_extension": ".py",
   "mimetype": "text/x-python",
   "name": "python",
   "nbconvert_exporter": "python",
   "pygments_lexer": "ipython3",
   "version": "3.11.5"
  }
 },
 "nbformat": 4,
 "nbformat_minor": 5
}
