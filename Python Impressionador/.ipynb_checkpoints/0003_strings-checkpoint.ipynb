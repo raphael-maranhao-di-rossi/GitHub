{
 "cells": [
  {
   "cell_type": "code",
   "execution_count": 2,
   "id": "789e2377",
   "metadata": {},
   "outputs": [
    {
     "name": "stdout",
     "output_type": "stream",
     "text": [
      "meu nome é Raphael\n"
     ]
    }
   ],
   "source": [
    "print (\"meu nome é \" + \"Raphael\")"
   ]
  },
  {
   "cell_type": "code",
   "execution_count": 7,
   "id": "6e844704",
   "metadata": {},
   "outputs": [
    {
     "name": "stdout",
     "output_type": "stream",
     "text": [
      "False\n"
     ]
    }
   ],
   "source": [
    "print (\"meu nome é \" in \"Raphael\")"
   ]
  },
  {
   "cell_type": "code",
   "execution_count": 4,
   "id": "8d71768d",
   "metadata": {},
   "outputs": [
    {
     "name": "stdout",
     "output_type": "stream",
     "text": [
      "True\n"
     ]
    }
   ],
   "source": [
    "print (\"R\" in \"Raphael\")"
   ]
  },
  {
   "cell_type": "code",
   "execution_count": 8,
   "id": "e2925a1b",
   "metadata": {
    "scrolled": true
   },
   "outputs": [
    {
     "name": "stdout",
     "output_type": "stream",
     "text": [
      "False\n"
     ]
    }
   ],
   "source": [
    "print (\"r\" in \"Raphael\")"
   ]
  }
 ],
 "metadata": {
  "kernelspec": {
   "display_name": "Python 3 (ipykernel)",
   "language": "python",
   "name": "python3"
  },
  "language_info": {
   "codemirror_mode": {
    "name": "ipython",
    "version": 3
   },
   "file_extension": ".py",
   "mimetype": "text/x-python",
   "name": "python",
   "nbconvert_exporter": "python",
   "pygments_lexer": "ipython3",
   "version": "3.11.5"
  }
 },
 "nbformat": 4,
 "nbformat_minor": 5
}
