{
 "cells": [
  {
   "cell_type": "code",
   "execution_count": 2,
   "id": "bd42969c",
   "metadata": {},
   "outputs": [
    {
     "ename": "SyntaxError",
     "evalue": "incomplete input (1657277160.py, line 10)",
     "output_type": "error",
     "traceback": [
      "\u001b[1;36m  Cell \u001b[1;32mIn[2], line 10\u001b[1;36m\u001b[0m\n\u001b[1;33m    print(f\"Olá, meu nome é {nome}, tenho {idade} anos e ganho um salário líquido de {salario_bruto - descontos} reais.\"\u001b[0m\n\u001b[1;37m                                                                                                                        ^\u001b[0m\n\u001b[1;31mSyntaxError\u001b[0m\u001b[1;31m:\u001b[0m incomplete input\n"
     ]
    }
   ],
   "source": [
    "nome = \"Raphael\"\n",
    "idade = 36\n",
    "salario_bruto = 14036.44\n",
    "descontos = 5000\n",
    "\n",
    "#usando o format\n",
    "print(\"Olá, meu nome é {}, tenho {} anos e ganho um salário líquido de {} reais.\".format(nome, idade, (salario_bruto - descontos)))\n",
    "\n",
    "#usando o f-string\n",
    "print(f\"Olá, meu nome é {nome}, tenho {idade} anos e ganho um salário líquido de {(salario_bruto - descontos)} reais.\")"
   ]
  }
 ],
 "metadata": {
  "kernelspec": {
   "display_name": "Python 3 (ipykernel)",
   "language": "python",
   "name": "python3"
  },
  "language_info": {
   "codemirror_mode": {
    "name": "ipython",
    "version": 3
   },
   "file_extension": ".py",
   "mimetype": "text/x-python",
   "name": "python",
   "nbconvert_exporter": "python",
   "pygments_lexer": "ipython3",
   "version": "3.11.5"
  }
 },
 "nbformat": 4,
 "nbformat_minor": 5
}
