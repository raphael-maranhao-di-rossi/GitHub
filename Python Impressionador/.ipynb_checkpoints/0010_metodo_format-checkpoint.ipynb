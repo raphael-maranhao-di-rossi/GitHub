{
 "cells": [
  {
   "cell_type": "markdown",
   "id": "e9f57ee6",
   "metadata": {},
   "source": [
    "# Código sem usar o método 'format'"
   ]
  },
  {
   "cell_type": "code",
   "execution_count": null,
   "id": "8a978745",
   "metadata": {},
   "outputs": [],
   "source": [
    "nome = \"Raphael\"\n",
    "idade = 36\n",
    "salario_bruto = 14036.44\n",
    "descontos = 5000\n",
    "\n",
    "print(\"Olá, meu nome é \" + nome + \", tenho \" + str(idade) + \" anos e ganho um salário líquido de \" + str(salario_bruto - descontos) + \" reais.\")"
   ]
  },
  {
   "cell_type": "markdown",
   "id": "afcea0dd",
   "metadata": {},
   "source": [
    "# Agora o mesmo código aplicando o 'format'"
   ]
  },
  {
   "cell_type": "code",
   "execution_count": null,
   "id": "89a8c3f5",
   "metadata": {},
   "outputs": [],
   "source": [
    "nome = \"Raphael\"\n",
    "idade = 36\n",
    "salario_bruto = 14036.44\n",
    "descontos = 5000\n",
    "\n",
    "print(\"Olá, meu nome é {}, tenho {} anos e ganho um salário líquido de {} reais.\".format(nome, idade, (salario_bruto - descontos)))"
   ]
  }
 ],
 "metadata": {
  "kernelspec": {
   "display_name": "Python 3 (ipykernel)",
   "language": "python",
   "name": "python3"
  },
  "language_info": {
   "codemirror_mode": {
    "name": "ipython",
    "version": 3
   },
   "file_extension": ".py",
   "mimetype": "text/x-python",
   "name": "python",
   "nbconvert_exporter": "python",
   "pygments_lexer": "ipython3",
   "version": "3.11.5"
  }
 },
 "nbformat": 4,
 "nbformat_minor": 5
}
