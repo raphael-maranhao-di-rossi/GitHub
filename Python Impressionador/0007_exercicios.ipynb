{
 "cells": [
  {
   "cell_type": "markdown",
   "metadata": {
    "id": "Pi-CJIef1ul1"
   },
   "source": [
    "# Exercícios do Módulo 1 - Operações, Variáveis e Input"
   ]
  },
  {
   "cell_type": "markdown",
   "metadata": {
    "id": "FJ2bFoIx1umA"
   },
   "source": [
    "### Parte 1 - Operações e Variáveis\n",
    "Crie um programa que imprima (print) os principais indicadores da loja Hashtag&Drink no último ano.\n",
    "Obs: faça tudo usando variáveis.\n",
    "\n",
    "Valores do último ano:\n",
    "\n",
    "Quantidade de Vendas de Coca = 150<br>\n",
    "Quantidade de Vendas de Pepsi = 130<br>\n",
    "Preço Unitário da Coca = 1,50 <br>\n",
    "Preço Unitário da Pepsi = 1,50<br>\n",
    "Custo da Loja: 2.500,00\n",
    "\n",
    "Use o bloco abaixo para criar todas as variáveis que precisar."
   ]
  },
  {
   "cell_type": "code",
   "execution_count": 12,
   "metadata": {
    "id": "8ou0OBBX1umC"
   },
   "outputs": [],
   "source": [
    "qtd_vendas_coca = 150\n",
    "qtd_vendas_pepsi = 130\n",
    "preco_un_coca = 1.50\n",
    "preco_un_pepsi = 1.50\n",
    "custo_loja = 2500.00"
   ]
  },
  {
   "cell_type": "markdown",
   "metadata": {
    "id": "fW0kX-qN1umD"
   },
   "source": [
    "1. Qual foi o faturamento de Pepsi da Loja?"
   ]
  },
  {
   "cell_type": "code",
   "execution_count": 13,
   "metadata": {
    "id": "zsBMI5vg1umE"
   },
   "outputs": [
    {
     "name": "stdout",
     "output_type": "stream",
     "text": [
      "195.0\n"
     ]
    }
   ],
   "source": [
    "faturamento_pepsi = qtd_vendas_pepsi * preco_un_pepsi\n",
    "print(faturamento_pepsi)"
   ]
  },
  {
   "cell_type": "markdown",
   "metadata": {
    "id": "xgxOvmRz1umF"
   },
   "source": [
    "2. Qual foi o faturamento de Coca da Loja?"
   ]
  },
  {
   "cell_type": "code",
   "execution_count": 14,
   "metadata": {
    "id": "NpsI_giv1umG"
   },
   "outputs": [
    {
     "name": "stdout",
     "output_type": "stream",
     "text": [
      "225.0\n"
     ]
    }
   ],
   "source": [
    "faturamento_coca = qtd_vendas_coca * preco_un_coca\n",
    "print(faturamento_coca)"
   ]
  },
  {
   "cell_type": "markdown",
   "metadata": {
    "id": "8D_0mYbI1umH"
   },
   "source": [
    "3. Qual foi o Lucro da loja?"
   ]
  },
  {
   "cell_type": "code",
   "execution_count": 15,
   "metadata": {
    "id": "doMwJLC-1umI"
   },
   "outputs": [
    {
     "name": "stdout",
     "output_type": "stream",
     "text": [
      "-2080.0\n"
     ]
    }
   ],
   "source": [
    "lucro_loja = faturamento_pepsi + faturamento_coca - custo_loja\n",
    "print(lucro_loja)"
   ]
  },
  {
   "cell_type": "markdown",
   "metadata": {
    "id": "bdua5-Ct1umJ"
   },
   "source": [
    "4. Qual foi a Margem da Loja? (Lembre-se, margem = Lucro / Faturamento). Não precisa formatar em percentual"
   ]
  },
  {
   "cell_type": "code",
   "execution_count": 16,
   "metadata": {
    "id": "ySAB6BNL1umK"
   },
   "outputs": [
    {
     "name": "stdout",
     "output_type": "stream",
     "text": [
      "-4.9523809523809526\n"
     ]
    }
   ],
   "source": [
    "faturamento_total = faturamento_pepsi + faturamento_coca\n",
    "margem_loja = lucro_loja / faturamento_total\n",
    "print(margem_loja)"
   ]
  },
  {
   "cell_type": "markdown",
   "metadata": {
    "id": "D1mYymiP1umL"
   },
   "source": [
    "### Parte 2 - Inputs e Strings"
   ]
  },
  {
   "cell_type": "markdown",
   "metadata": {
    "id": "mcbTaP8b1umN"
   },
   "source": [
    "A maioria das empresas trabalham com um Código para cada produto que possuem. A Hashtag&Drink, por exemplo, tem mais de 1.000 produtos e possui um código para cada produto.\n",
    "Ex: \n",
    "Coca -> Código: BEB1300543<br>\n",
    "Pepsi -> Código: BEB1300545<br>\n",
    "Vinho Primitivo Lucarelli -> Código: BAC1546001<br>\n",
    "Vodka Smirnoff -> Código: BAC17675002<br>\n",
    "\n",
    "Repare que todas as bebidas não alcóolicas tem o início do Código \"BEB\" e todas as bebidas alcóolicas tem o início do código \"BAC\".\n",
    "\n",
    "Crie um programa de consulta de bebida que, dado um código qualquer, identifique se a bebida é alcóolica. O programa deve responder True para bebidas alcóolicas e False para bebidas não alcóolicas. Para inserir um código, use um input.\n",
    "\n",
    "Dica: Lembre-se do comando in para strings e sempre insira os códigos com letra maiúscula para facilitar."
   ]
  },
  {
   "cell_type": "code",
   "execution_count": 36,
   "metadata": {
    "id": "IUrYt1hs1umQ"
   },
   "outputs": [
    {
     "name": "stdout",
     "output_type": "stream",
     "text": [
      "Digite o código da bebida: BEN1300545\n",
      "Tipo de bebida inexistente.\n"
     ]
    }
   ],
   "source": [
    "codigo_digitado = input(\"Digite o código da bebida: \")\n",
    "\n",
    "if (\"BEB\" in codigo_digitado):\n",
    "    print(\"Não é bebida alcoólica!\")\n",
    "elif (\"BAC\" in codigo_digitado):\n",
    "    print(\"É bebida alcoólica!\")\n",
    "else:\n",
    "    print(\"Tipo de bebida inexistente.\")\n"
   ]
  },
  {
   "cell_type": "code",
   "execution_count": null,
   "metadata": {},
   "outputs": [],
   "source": []
  }
 ],
 "metadata": {
  "celltoolbar": "Attachments",
  "colab": {
   "provenance": []
  },
  "kernelspec": {
   "display_name": "Python 3 (ipykernel)",
   "language": "python",
   "name": "python3"
  },
  "language_info": {
   "codemirror_mode": {
    "name": "ipython",
    "version": 3
   },
   "file_extension": ".py",
   "mimetype": "text/x-python",
   "name": "python",
   "nbconvert_exporter": "python",
   "pygments_lexer": "ipython3",
   "version": "3.11.5"
  }
 },
 "nbformat": 4,
 "nbformat_minor": 1
}
