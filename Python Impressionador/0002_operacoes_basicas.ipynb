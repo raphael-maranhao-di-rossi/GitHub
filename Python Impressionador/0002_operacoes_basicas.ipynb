{
 "cells": [
  {
   "cell_type": "code",
   "execution_count": 4,
   "id": "cd440a8f",
   "metadata": {
    "scrolled": true
   },
   "outputs": [
    {
     "name": "stdout",
     "output_type": "stream",
     "text": [
      "10\n",
      "4\n",
      "21\n",
      "2.3333333333333335\n",
      "1\n",
      "5\n",
      "6\n"
     ]
    }
   ],
   "source": [
    "print (7 + 3)\n",
    "print (7 - 3)\n",
    "print (7 * 3)\n",
    "print (7 / 3)\n",
    "print (7 % 3)\n",
    "print (1 + 2 * 2)\n",
    "print ((1 + 2) * 2)"
   ]
  }
 ],
 "metadata": {
  "kernelspec": {
   "display_name": "Python 3 (ipykernel)",
   "language": "python",
   "name": "python3"
  },
  "language_info": {
   "codemirror_mode": {
    "name": "ipython",
    "version": 3
   },
   "file_extension": ".py",
   "mimetype": "text/x-python",
   "name": "python",
   "nbconvert_exporter": "python",
   "pygments_lexer": "ipython3",
   "version": "3.11.5"
  }
 },
 "nbformat": 4,
 "nbformat_minor": 5
}
