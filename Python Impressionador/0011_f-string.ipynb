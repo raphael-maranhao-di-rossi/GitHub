{
 "cells": [
  {
   "cell_type": "code",
   "execution_count": 3,
   "id": "a6166861",
   "metadata": {},
   "outputs": [
    {
     "name": "stdout",
     "output_type": "stream",
     "text": [
      "Olá, meu nome é Raphael, tenho 36 anos e ganho um salário líquido de 9036.44 reais.\n",
      "Olá, meu nome é Raphael, tenho 36 anos e ganho um salário líquido de 9036.44 reais.\n"
     ]
    }
   ],
   "source": [
    "nome = \"Raphael\"\n",
    "idade = 36\n",
    "salario_bruto = 14036.44\n",
    "descontos = 5000\n",
    "\n",
    "#usando o format\n",
    "print(\"Olá, meu nome é {}, tenho {} anos e ganho um salário líquido de {} reais.\".format(nome, idade, (salario_bruto - descontos)))\n",
    "\n",
    "#usando o f-string\n",
    "print(f\"Olá, meu nome é {nome}, tenho {idade} anos e ganho um salário líquido de {(salario_bruto - descontos)} reais.\")"
   ]
  }
 ],
 "metadata": {
  "kernelspec": {
   "display_name": "Python 3 (ipykernel)",
   "language": "python",
   "name": "python3"
  },
  "language_info": {
   "codemirror_mode": {
    "name": "ipython",
    "version": 3
   },
   "file_extension": ".py",
   "mimetype": "text/x-python",
   "name": "python",
   "nbconvert_exporter": "python",
   "pygments_lexer": "ipython3",
   "version": "3.11.5"
  }
 },
 "nbformat": 4,
 "nbformat_minor": 5
}
