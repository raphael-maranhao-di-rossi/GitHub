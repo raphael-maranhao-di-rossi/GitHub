{
 "cells": [
  {
   "cell_type": "markdown",
   "id": "16548be6",
   "metadata": {},
   "source": [
    "# 1. Criando um mini sistema de controle de estoque\n",
    "Crie um sistema para ser usado pelo time de controle de estoque de um centro de distribuição.\n",
    "\n",
    "Imagine que ao fim de todo dia, o time conta quantas unidades de produto existem no estoque. Se tivermos um estoque abaixo do estoque permitido para aquela categoria do produto, o time deve ser avisado (print) para fazer um novo pedido daquele produto.\n",
    "\n",
    "Cada categoria de produto tem um estoque mínimo diferente, segundo a regra abaixo:\n",
    "\n",
    "alimentos -> Estoque mínimo: 50\n",
    "\n",
    "bebidas -> Estoque mínimo: 75\n",
    "\n",
    "limpeza -> Estoque mínimo: 30\n",
    "\n",
    "Para isso vamos criar um programa que pede 3 inputs do usuário: nome do produto, categoria e quantidade atual em estoque.\n",
    "\n",
    "Se o produto tiver abaixo do estoque mínimo da categoria dele, o programa deve printar a mensagem \"Solicitar {produto} à equipe de compras, temos apenas {unidades} em estoque\"\n",
    "\n",
    "Exemplo: Se o usuário preenche os inputs com: bebidas, dolly, 90, o programa não deve exibir nenhuma mensagem.\n",
    "Agora, se o usuário preenche os inputs com: bebidas, guaraná, 60, o programa deve exibir a mensagem \"Solicitar guaraná à equipe de compras, temos apenas 60 unidades em estoque.\n",
    "\n",
    "Obs: lembre de usar o int() para transformar o número inserido pelo usuário no input de string para int.\n",
    "Obs2: Caso o usuário não preencha alguma das 3 informações, o programa deve exibir uma mensagem para avisá-lo de preencher corretamente."
   ]
  },
  {
   "cell_type": "code",
   "execution_count": 31,
   "id": "ee9376fb",
   "metadata": {},
   "outputs": [
    {
     "name": "stdout",
     "output_type": "stream",
     "text": [
      "Digite o nome do produto: birinite\n",
      "Digite a categoria do produto: bebidas\n",
      "Digite a quantidade atual em estoque do produto: \n",
      "Preencha os campos corretamente!\n"
     ]
    }
   ],
   "source": [
    "est_min_alimentos = 50\n",
    "est_min_bebidas = 75\n",
    "est_min_limpeza = 30\n",
    "\n",
    "nome_produto = input(\"Digite o nome do produto: \")\n",
    "categoria = input(\"Digite a categoria do produto: \")\n",
    "qtd_atual = input(\"Digite a quantidade atual em estoque do produto: \")\n",
    "\n",
    "if nome_produto and categoria and qtd_atual:\n",
    "    qtd_atual = int(qtd_atual)\n",
    "    if categoria in \"alimentos\":\n",
    "        if qtd_atual < est_min_alimentos:\n",
    "            print(f\"Solicitar {nome_produto} à equipe de compras, temos apenas {qtd_atual} em estoque.\")\n",
    "    elif categoria in \"bebidas\":\n",
    "        if qtd_atual < est_min_bebidas:\n",
    "            print(f\"Solicitar {nome_produto} à equipe de compras, temos apenas {qtd_atual} em estoque.\")\n",
    "    elif categoria in \"limpeza\":\n",
    "        if qtd_atual < est_min_limpeza:\n",
    "            print(f\"Solicitar {nome_produto} à equipe de compras, temos apenas {qtd_atual} em estoque.\")\n",
    "else:\n",
    "    print(\"Preencha os campos corretamente!\")\n",
    "    \n"
   ]
  }
 ],
 "metadata": {
  "kernelspec": {
   "display_name": "Python 3 (ipykernel)",
   "language": "python",
   "name": "python3"
  },
  "language_info": {
   "codemirror_mode": {
    "name": "ipython",
    "version": 3
   },
   "file_extension": ".py",
   "mimetype": "text/x-python",
   "name": "python",
   "nbconvert_exporter": "python",
   "pygments_lexer": "ipython3",
   "version": "3.11.5"
  }
 },
 "nbformat": 4,
 "nbformat_minor": 5
}
